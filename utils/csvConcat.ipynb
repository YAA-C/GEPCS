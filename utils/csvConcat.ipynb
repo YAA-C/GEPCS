{
 "cells": [
  {
   "cell_type": "code",
   "execution_count": 5,
   "id": "1ff5fe34-e176-40de-aad0-35ecf09e7abd",
   "metadata": {},
   "outputs": [],
   "source": [
    "import os\n",
    "import pandas as pd"
   ]
  },
  {
   "cell_type": "code",
   "execution_count": 2,
   "id": "f39c425d-5d74-4823-9f42-3f578b0f37f8",
   "metadata": {},
   "outputs": [],
   "source": [
    "def concatenate_csv_files(input_folder, output_file):\n",
    "    # Get a list of all CSV files in the input folder\n",
    "    csv_files = [file for file in os.listdir(input_folder) if file.endswith('.csv')]\n",
    "\n",
    "    # Check if there are any CSV files\n",
    "    if not csv_files:\n",
    "        print(\"No CSV files found in the input folder.\")\n",
    "        return\n",
    "\n",
    "    # Read the first CSV file to get the column names\n",
    "    first_csv = pd.read_csv(os.path.join(input_folder, csv_files[0]))\n",
    "    columns = list(first_csv.columns)\n",
    "\n",
    "    # Create an empty DataFrame to store the concatenated data\n",
    "    result_df = pd.DataFrame(columns=columns)\n",
    "\n",
    "    # Concatenate all CSV files\n",
    "    for csv_file in csv_files:\n",
    "        current_csv = pd.read_csv(os.path.join(input_folder, csv_file))\n",
    "        result_df = pd.concat([result_df, current_csv], ignore_index=True)\n",
    "\n",
    "    # Write the concatenated data to the output CSV file\n",
    "    result_df.to_csv(output_file, index=False)\n",
    "    print(f\"Concatenation completed. Result saved to {output_file}\")"
   ]
  },
  {
   "cell_type": "code",
   "execution_count": 3,
   "id": "b76dd559-519a-4e3d-824b-12fdbab7871d",
   "metadata": {},
   "outputs": [
    {
     "name": "stdout",
     "output_type": "stream",
     "text": [
      "D:\\000 PICT Projects\\BE project\\GEPCS\\DemoFiles\\csv\n"
     ]
    }
   ],
   "source": [
    "# Get the current directory (should be 'csvConcat')\n",
    "current_dir = os.getcwd()\n",
    "\n",
    "# Get the parent directory\n",
    "parent_dir = os.path.dirname(current_dir)\n",
    "\n",
    "# Construct the path to the 'DemoFiles/csv' folder\n",
    "demo_files_dir = os.path.join(parent_dir, 'DemoFiles', 'csv')\n",
    "\n",
    "print(demo_files_dir)"
   ]
  },
  {
   "cell_type": "code",
   "execution_count": 4,
   "id": "9e9d2a22-9801-4f22-8f6d-630feb71873a",
   "metadata": {},
   "outputs": [
    {
     "name": "stderr",
     "output_type": "stream",
     "text": [
      "C:\\Users\\SHUBHAM SUKUM\\AppData\\Local\\Temp\\ipykernel_5800\\4257008134.py:20: FutureWarning: The behavior of DataFrame concatenation with empty or all-NA entries is deprecated. In a future version, this will no longer exclude empty or all-NA columns when determining the result dtypes. To retain the old behavior, exclude the relevant entries before the concat operation.\n",
      "  result_df = pd.concat([result_df, current_csv], ignore_index=True)\n"
     ]
    },
    {
     "name": "stdout",
     "output_type": "stream",
     "text": [
      "Concatenation completed. Result saved to output.csv\n"
     ]
    }
   ],
   "source": [
    "output_file = 'output.csv'\n",
    "concatenate_csv_files(demo_files_dir, output_file)"
   ]
  },
  {
   "cell_type": "code",
   "execution_count": 6,
   "id": "8833bbde-fb45-4810-bb83-27e02645244f",
   "metadata": {},
   "outputs": [
    {
     "name": "stdout",
     "output_type": "stream",
     "text": [
      "D:\\000 PICT Projects\\BE project\\GEPCS\\DemoFiles\\csv\n"
     ]
    },
    {
     "name": "stderr",
     "output_type": "stream",
     "text": [
      "C:\\Users\\SHUBHAM SUKUM\\AppData\\Local\\Temp\\ipykernel_5800\\2525065720.py:22: FutureWarning: The behavior of DataFrame concatenation with empty or all-NA entries is deprecated. In a future version, this will no longer exclude empty or all-NA columns when determining the result dtypes. To retain the old behavior, exclude the relevant entries before the concat operation.\n",
      "  result_df = pd.concat([result_df, current_csv], ignore_index=True)\n"
     ]
    },
    {
     "name": "stdout",
     "output_type": "stream",
     "text": [
      "Concatenation completed. Result saved to output.csv\n"
     ]
    }
   ],
   "source": [
    "# New Modified code\n",
    "\n",
    "def concatenate_csv_files(input_folder, output_file):\n",
    "    # Get a list of all CSV files in the input folder\n",
    "    csv_files = [file for file in os.listdir(input_folder) if file.endswith('.csv')]\n",
    "\n",
    "    # Check if there are any CSV files\n",
    "    if not csv_files:\n",
    "        print(\"No CSV files found in the input folder.\")\n",
    "        return\n",
    "\n",
    "    # Read the first CSV file to get the column names\n",
    "    first_csv = pd.read_csv(os.path.join(input_folder, csv_files[0]))\n",
    "    columns = list(first_csv.columns)\n",
    "\n",
    "    # Create an empty DataFrame to store the concatenated data\n",
    "    result_df = pd.DataFrame(columns=columns)\n",
    "\n",
    "    # Concatenate all CSV files\n",
    "    for csv_file in csv_files:\n",
    "        current_csv = pd.read_csv(os.path.join(input_folder, csv_file))\n",
    "        result_df = pd.concat([result_df, current_csv], ignore_index=True)\n",
    "\n",
    "    # Remove rows with missing data\n",
    "    result_df = result_df.dropna()\n",
    "\n",
    "    # Write the concatenated data to the output CSV file\n",
    "    result_df.to_csv(output_file, index=False)\n",
    "    print(f\"Concatenation completed. Result saved to {output_file}\")\n",
    "\n",
    "# Get the current directory (should be 'csvConcat')\n",
    "current_dir = os.getcwd()\n",
    "\n",
    "# Get the parent directory\n",
    "parent_dir = os.path.dirname(current_dir)\n",
    "\n",
    "# Construct the path to the 'DemoFiles/csv' folder\n",
    "demo_files_dir = os.path.join(parent_dir, 'DemoFiles', 'csv')\n",
    "\n",
    "print(demo_files_dir)\n",
    "\n",
    "output_file = 'output.csv'\n",
    "concatenate_csv_files(demo_files_dir, output_file)"
   ]
  },
  {
   "cell_type": "code",
   "execution_count": 9,
   "id": "ed121961-c167-46ec-86ce-070f797e6040",
   "metadata": {},
   "outputs": [
    {
     "name": "stdout",
     "output_type": "stream",
     "text": [
      "D:\\000 PICT Projects\\BE project\\GEPCS\\DemoFiles\\csv\n",
      "Concatenation completed. Result saved to output.csv\n"
     ]
    }
   ],
   "source": [
    "# Modified 2\n",
    "\n",
    "def concatenate_csv_files(input_folder, output_file):\n",
    "    # Get a list of all CSV files in the input folder\n",
    "    csv_files = [file for file in os.listdir(input_folder) if file.endswith('.csv')]\n",
    "\n",
    "    # Check if there are any CSV files\n",
    "    if not csv_files:\n",
    "        print(\"No CSV files found in the input folder.\")\n",
    "        return\n",
    "\n",
    "    # Read the first CSV file to get the column names and dtypes\n",
    "    first_csv = pd.read_csv(os.path.join(input_folder, csv_files[0]))\n",
    "    columns = list(first_csv.columns)\n",
    "    dtypes = first_csv.dtypes\n",
    "\n",
    "    # Create an empty DataFrame with the same column names and dtypes\n",
    "    result_df = pd.DataFrame(columns=columns).astype(dtypes)\n",
    "\n",
    "    # Concatenate all CSV files\n",
    "    for csv_file in csv_files:\n",
    "        current_csv = pd.read_csv(os.path.join(input_folder, csv_file))\n",
    "        result_df = pd.concat([result_df, current_csv], ignore_index=True)\n",
    "\n",
    "    # Remove rows with missing data\n",
    "    result_df = result_df.dropna()\n",
    "\n",
    "    # Write the concatenated data to the output CSV file\n",
    "    result_df.to_csv(output_file, index=False)\n",
    "    print(f\"Concatenation completed. Result saved to {output_file}\")\n",
    "\n",
    "# Get the current directory (should be 'csvConcat')\n",
    "current_dir = os.getcwd()\n",
    "\n",
    "# Get the parent directory\n",
    "parent_dir = os.path.dirname(current_dir)\n",
    "\n",
    "# Construct the path to the 'DemoFiles/csv' folder\n",
    "demo_files_dir = os.path.join(parent_dir, 'DemoFiles', 'csv')\n",
    "\n",
    "print(demo_files_dir)\n",
    "\n",
    "output_file = 'output.csv'\n",
    "concatenate_csv_files(demo_files_dir, output_file)\n"
   ]
  },
  {
   "cell_type": "code",
   "execution_count": 10,
   "id": "15c13143-5bcd-4d61-9042-36c951cae6ab",
   "metadata": {},
   "outputs": [
    {
     "name": "stdout",
     "output_type": "stream",
     "text": [
      "D:\\000 PICT Projects\\BE project\\GEPCS\\DemoFiles\\csv\n",
      "Concatenation completed. Result saved to output.csv\n"
     ]
    }
   ],
   "source": [
    "# modified 3 WORKING\n",
    "\n",
    "def concatenate_csv_files(input_folder, output_file):\n",
    "    # Get a list of all CSV files in the input folder\n",
    "    csv_files = [file for file in os.listdir(input_folder) if file.endswith('.csv')]\n",
    "\n",
    "    # Check if there are any CSV files\n",
    "    if not csv_files:\n",
    "        print(\"No CSV files found in the input folder.\")\n",
    "        return\n",
    "\n",
    "    # Read the first CSV file to get the column names and dtypes\n",
    "    first_csv = pd.read_csv(os.path.join(input_folder, csv_files[0]))\n",
    "    columns = list(first_csv.columns)\n",
    "    dtypes = first_csv.dtypes\n",
    "\n",
    "    # Create an empty DataFrame with the same column names and dtypes\n",
    "    result_df = pd.DataFrame(columns=columns).astype(dtypes)\n",
    "\n",
    "    # Concatenate all CSV files\n",
    "    for csv_file in csv_files:\n",
    "        current_csv = pd.read_csv(os.path.join(input_folder, csv_file))\n",
    "        result_df = pd.concat([result_df, current_csv], ignore_index=True)\n",
    "\n",
    "    # Remove rows with all values empty (horizontal empty rows)\n",
    "    result_df = result_df.dropna(how='all')\n",
    "\n",
    "    # Write the concatenated data to the output CSV file\n",
    "    result_df.to_csv(output_file, index=False)\n",
    "    print(f\"Concatenation completed. Result saved to {output_file}\")\n",
    "\n",
    "# Get the current directory (should be 'csvConcat')\n",
    "current_dir = os.getcwd()\n",
    "\n",
    "# Get the parent directory\n",
    "parent_dir = os.path.dirname(current_dir)\n",
    "\n",
    "# Construct the path to the 'DemoFiles/csv' folder\n",
    "demo_files_dir = os.path.join(parent_dir, 'DemoFiles', 'csv')\n",
    "\n",
    "print(demo_files_dir)\n",
    "\n",
    "output_file = 'output.csv'\n",
    "concatenate_csv_files(demo_files_dir, output_file)\n"
   ]
  },
  {
   "cell_type": "code",
   "execution_count": 11,
   "id": "2a9fb8f0-c1a5-4ed8-b652-9edec1716d60",
   "metadata": {},
   "outputs": [],
   "source": [
    "# works with concatinating"
   ]
  },
  {
   "cell_type": "code",
   "execution_count": 13,
   "id": "15cdcf17-c243-4969-92ee-d18d908d3b6f",
   "metadata": {},
   "outputs": [
    {
     "name": "stdout",
     "output_type": "stream",
     "text": [
      "D:\\000 PICT Projects\\BE project\\GEPCS\\DemoFiles\\csv\n",
      "Concatenation completed. Result saved to output.csv\n",
      "Deleted: test-367845.csv\n",
      "Deleted: test-418137.csv\n",
      "Deleted: test-537092.csv\n",
      "Deleted: test-818971.csv\n",
      "Deleted: test-998161.csv\n",
      "Moved output.csv to D:\\000 PICT Projects\\BE project\\GEPCS\\DemoFiles\\csv\n"
     ]
    }
   ],
   "source": [
    "# modified 4 for deleting csv files and placing output.csv file there\n",
    "\n",
    "import os\n",
    "import pandas as pd\n",
    "\n",
    "def concatenate_csv_files(input_folder, output_file):\n",
    "    # Get a list of all CSV files in the input folder\n",
    "    csv_files = [file for file in os.listdir(input_folder) if file.endswith('.csv')]\n",
    "\n",
    "    # Check if there are any CSV files\n",
    "    if not csv_files:\n",
    "        print(\"No CSV files found in the input folder.\")\n",
    "        return\n",
    "\n",
    "    # Read the first CSV file to get the column names and dtypes\n",
    "    first_csv = pd.read_csv(os.path.join(input_folder, csv_files[0]))\n",
    "    columns = list(first_csv.columns)\n",
    "    dtypes = first_csv.dtypes\n",
    "\n",
    "    # Create an empty DataFrame with the same column names and dtypes\n",
    "    result_df = pd.DataFrame(columns=columns).astype(dtypes)\n",
    "\n",
    "    # Concatenate all CSV files\n",
    "    for csv_file in csv_files:\n",
    "        current_csv = pd.read_csv(os.path.join(input_folder, csv_file))\n",
    "        result_df = pd.concat([result_df, current_csv], ignore_index=True)\n",
    "\n",
    "    # Remove rows with all values empty (horizontal empty rows)\n",
    "    result_df = result_df.dropna(how='all')\n",
    "\n",
    "    # Write the concatenated data to the output CSV file\n",
    "    result_df.to_csv(output_file, index=False)\n",
    "    print(f\"Concatenation completed. Result saved to {output_file}\")\n",
    "\n",
    "    # Remove the original CSV files\n",
    "    for csv_file in csv_files:\n",
    "        os.remove(os.path.join(input_folder, csv_file))\n",
    "        print(f\"Deleted: {csv_file}\")\n",
    "\n",
    "    # Move the output CSV file to the input folder\n",
    "    output_path = os.path.join(input_folder, output_file)\n",
    "    os.replace(output_file, output_path)\n",
    "    print(f\"Moved {output_file} to {input_folder}\")\n",
    "\n",
    "# Get the current directory (should be 'csvConcat')\n",
    "current_dir = os.getcwd()\n",
    "\n",
    "# Get the parent directory\n",
    "parent_dir = os.path.dirname(current_dir)\n",
    "\n",
    "# Construct the path to the 'DemoFiles/csv' folder\n",
    "demo_files_dir = os.path.join(parent_dir, 'DemoFiles', 'csv')\n",
    "\n",
    "print(demo_files_dir)\n",
    "\n",
    "output_file = 'output.csv'\n",
    "concatenate_csv_files(demo_files_dir, output_file)"
   ]
  },
  {
   "cell_type": "code",
   "execution_count": null,
   "id": "295eeee9-c0af-457e-9f1e-fba37ebfda0f",
   "metadata": {},
   "outputs": [],
   "source": []
  }
 ],
 "metadata": {
  "kernelspec": {
   "display_name": "Python 3 (ipykernel)",
   "language": "python",
   "name": "python3"
  },
  "language_info": {
   "codemirror_mode": {
    "name": "ipython",
    "version": 3
   },
   "file_extension": ".py",
   "mimetype": "text/x-python",
   "name": "python",
   "nbconvert_exporter": "python",
   "pygments_lexer": "ipython3",
   "version": "3.10.0"
  }
 },
 "nbformat": 4,
 "nbformat_minor": 5
}
